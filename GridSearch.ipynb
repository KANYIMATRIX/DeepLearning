{
 "cells": [
  {
   "cell_type": "code",
   "execution_count": 1,
   "metadata": {},
   "outputs": [
    {
     "name": "stderr",
     "output_type": "stream",
     "text": [
      "Using TensorFlow backend.\n",
      "/home/kanyi/my_envreal/lib/python3.6/site-packages/tensorflow/python/framework/dtypes.py:493: FutureWarning: Passing (type, 1) or '1type' as a synonym of type is deprecated; in a future version of numpy, it will be understood as (type, (1,)) / '(1,)type'.\n",
      "  _np_qint8 = np.dtype([(\"qint8\", np.int8, 1)])\n",
      "/home/kanyi/my_envreal/lib/python3.6/site-packages/tensorflow/python/framework/dtypes.py:494: FutureWarning: Passing (type, 1) or '1type' as a synonym of type is deprecated; in a future version of numpy, it will be understood as (type, (1,)) / '(1,)type'.\n",
      "  _np_quint8 = np.dtype([(\"quint8\", np.uint8, 1)])\n",
      "/home/kanyi/my_envreal/lib/python3.6/site-packages/tensorflow/python/framework/dtypes.py:495: FutureWarning: Passing (type, 1) or '1type' as a synonym of type is deprecated; in a future version of numpy, it will be understood as (type, (1,)) / '(1,)type'.\n",
      "  _np_qint16 = np.dtype([(\"qint16\", np.int16, 1)])\n",
      "/home/kanyi/my_envreal/lib/python3.6/site-packages/tensorflow/python/framework/dtypes.py:496: FutureWarning: Passing (type, 1) or '1type' as a synonym of type is deprecated; in a future version of numpy, it will be understood as (type, (1,)) / '(1,)type'.\n",
      "  _np_quint16 = np.dtype([(\"quint16\", np.uint16, 1)])\n",
      "/home/kanyi/my_envreal/lib/python3.6/site-packages/tensorflow/python/framework/dtypes.py:497: FutureWarning: Passing (type, 1) or '1type' as a synonym of type is deprecated; in a future version of numpy, it will be understood as (type, (1,)) / '(1,)type'.\n",
      "  _np_qint32 = np.dtype([(\"qint32\", np.int32, 1)])\n",
      "/home/kanyi/my_envreal/lib/python3.6/site-packages/tensorflow/python/framework/dtypes.py:502: FutureWarning: Passing (type, 1) or '1type' as a synonym of type is deprecated; in a future version of numpy, it will be understood as (type, (1,)) / '(1,)type'.\n",
      "  np_resource = np.dtype([(\"resource\", np.ubyte, 1)])\n"
     ]
    }
   ],
   "source": [
    "import numpy\n",
    "from sklearn.model_selection import GridSearchCV\n",
    "from keras.models import Sequential\n",
    "from keras.layers import Dense\n",
    "from keras.wrappers.scikit_learn import KerasClassifier"
   ]
  },
  {
   "cell_type": "code",
   "execution_count": 2,
   "metadata": {},
   "outputs": [],
   "source": [
    "def create_model():\n",
    "    model=Sequential()\n",
    "    model.add(Dense(12,input_dim=8,activation=\"relu\"))\n",
    "    model.add(Dense(1,activation=\"sigmoid\"))\n",
    "    model.compile(loss=\"binary_crossentropy\",optimizer=\"adam\",metrics=[\"accuracy\"]) \n",
    "    return model\n",
    "\n",
    "\n"
   ]
  },
  {
   "cell_type": "code",
   "execution_count": 3,
   "metadata": {},
   "outputs": [],
   "source": [
    "seed=7\n",
    "numpy.random.seed(seed)"
   ]
  },
  {
   "cell_type": "code",
   "execution_count": 4,
   "metadata": {},
   "outputs": [],
   "source": [
    "dataset=numpy.loadtxt(\"pima-indians-diabetes.csv\",delimiter=\",\")"
   ]
  },
  {
   "cell_type": "code",
   "execution_count": 5,
   "metadata": {},
   "outputs": [],
   "source": [
    "X = dataset[:,0:8]\n",
    "Y = dataset[:,8]"
   ]
  },
  {
   "cell_type": "code",
   "execution_count": 6,
   "metadata": {},
   "outputs": [],
   "source": [
    "model=KerasClassifier(build_fn=create_model,verbose=0)"
   ]
  },
  {
   "cell_type": "markdown",
   "metadata": {},
   "source": [
    "# Define grid search parameters"
   ]
  },
  {
   "cell_type": "code",
   "execution_count": 7,
   "metadata": {},
   "outputs": [],
   "source": [
    "batch_size = [10, 20, 40, 60, 80, 100]\n",
    "epochs = [10, 50, 100]\n",
    "param_grid = dict(batch_size=batch_size, epochs=epochs)\n",
    "grid = GridSearchCV(estimator=model, param_grid=param_grid, n_jobs=-1)\n",
    "grid_result = grid.fit(X, Y)"
   ]
  },
  {
   "cell_type": "code",
   "execution_count": 8,
   "metadata": {},
   "outputs": [
    {
     "name": "stdout",
     "output_type": "stream",
     "text": [
      "Best 0.670573 using {'batch_size': 80, 'epochs': 100}\n",
      "0.585938 (0.030425) with : {'batch_size': 10, 'epochs': 10} \n",
      "0.451823 (0.169531) with : {'batch_size': 10, 'epochs': 50} \n",
      "0.468750 (0.164712) with : {'batch_size': 10, 'epochs': 100} \n",
      "0.467448 (0.088637) with : {'batch_size': 20, 'epochs': 10} \n",
      "0.667969 (0.022999) with : {'batch_size': 20, 'epochs': 50} \n",
      "0.572917 (0.164815) with : {'batch_size': 20, 'epochs': 100} \n",
      "0.627604 (0.035849) with : {'batch_size': 40, 'epochs': 10} \n",
      "0.623698 (0.018136) with : {'batch_size': 40, 'epochs': 50} \n",
      "0.649740 (0.023510) with : {'batch_size': 40, 'epochs': 100} \n",
      "0.519531 (0.053274) with : {'batch_size': 60, 'epochs': 10} \n",
      "0.658854 (0.015733) with : {'batch_size': 60, 'epochs': 50} \n",
      "0.669271 (0.024150) with : {'batch_size': 60, 'epochs': 100} \n",
      "0.585938 (0.069072) with : {'batch_size': 80, 'epochs': 10} \n",
      "0.647135 (0.030145) with : {'batch_size': 80, 'epochs': 50} \n",
      "0.670573 (0.017566) with : {'batch_size': 80, 'epochs': 100} \n",
      "0.618490 (0.042473) with : {'batch_size': 100, 'epochs': 10} \n",
      "0.623698 (0.012075) with : {'batch_size': 100, 'epochs': 50} \n",
      "0.619792 (0.044690) with : {'batch_size': 100, 'epochs': 100} \n"
     ]
    }
   ],
   "source": [
    "print(\"Best %f using %s\"%(grid_result.best_score_,grid_result.best_params_))\n",
    "means=grid_result.cv_results_[\"mean_test_score\"]\n",
    "stds=grid_result.cv_results_[\"std_test_score\"]\n",
    "params=grid_result.cv_results_[\"params\"]\n",
    "for mean,stdev,param in zip(means,stds,params):\n",
    "    print(\"%f (%f) with : %r \" %(mean,stdev,param))"
   ]
  },
  {
   "cell_type": "code",
   "execution_count": null,
   "metadata": {},
   "outputs": [],
   "source": []
  },
  {
   "cell_type": "markdown",
   "metadata": {},
   "source": [
    "# tune optimization algorithms "
   ]
  },
  {
   "cell_type": "code",
   "execution_count": 9,
   "metadata": {},
   "outputs": [],
   "source": [
    "import numpy\n",
    "from sklearn.model_selection import GridSearchCV\n",
    "from keras.models import Sequential\n",
    "from keras.layers import Dense\n",
    "from keras.wrappers.scikit_learn import KerasClassifier\n"
   ]
  },
  {
   "cell_type": "code",
   "execution_count": 10,
   "metadata": {},
   "outputs": [],
   "source": [
    "def create_model(optimizer='adam'):\n",
    "    model=Sequential()\n",
    "    model.add(Dense(12,input_dim=8,activation=\"relu\"))\n",
    "    model.add(Dense(1,activation=\"sigmoid\"))\n",
    "    \n",
    "    model.compile(loss=\"binary_crossentropy\",optimizer=optimizer,metrics=[\"accuracy\"])\n",
    "    return model"
   ]
  },
  {
   "cell_type": "code",
   "execution_count": 11,
   "metadata": {},
   "outputs": [],
   "source": [
    "seed=7\n",
    "numpy.random.seed(seed)"
   ]
  },
  {
   "cell_type": "code",
   "execution_count": 12,
   "metadata": {},
   "outputs": [],
   "source": [
    "dataset=numpy.loadtxt(\"pima-indians-diabetes.csv\",delimiter=\",\")"
   ]
  },
  {
   "cell_type": "code",
   "execution_count": 13,
   "metadata": {},
   "outputs": [],
   "source": [
    "X=dataset[:,0:8]\n",
    "Y=dataset[:,8]"
   ]
  },
  {
   "cell_type": "code",
   "execution_count": 14,
   "metadata": {},
   "outputs": [],
   "source": [
    "model=KerasClassifier(build_fn=create_model,epochs=100,batch_size=10,verbose=0)"
   ]
  },
  {
   "cell_type": "code",
   "execution_count": null,
   "metadata": {},
   "outputs": [],
   "source": [
    "optimizer=[\"SGD\",\"RMSprop\",\"Adagrad\",\"Adadelta\",\"Adam\",\"Adamax\",\"Nadam\"]\n",
    "param_grid=dict(optimizer=optimizer)\n",
    "grid=GridSearchCV(estimator=model,param_grid=param_grid,n_jobs=-1)\n",
    "grid_result=grid.fit(X, Y)"
   ]
  },
  {
   "cell_type": "code",
   "execution_count": null,
   "metadata": {},
   "outputs": [],
   "source": [
    "print(\"Best : %f using %\"%(grid_result.best_score_,grid_result.best_params_))\n",
    "means=grid_result.cv_results_[\"mean_test_score\"]\n",
    "stds=grid_result.cv_results_[\"std_test_score\"]\n",
    "params=grid_result.cv_results_[\"params\"]\n",
    "\n",
    "for mean,stdev,param in zip(means,stds,params):\n",
    "    print(\"%f (%f) with : %r\" %())\n"
   ]
  },
  {
   "cell_type": "code",
   "execution_count": null,
   "metadata": {},
   "outputs": [],
   "source": []
  }
 ],
 "metadata": {
  "kernelspec": {
   "display_name": "Python 3",
   "language": "python",
   "name": "python3"
  },
  "language_info": {
   "codemirror_mode": {
    "name": "ipython",
    "version": 3
   },
   "file_extension": ".py",
   "mimetype": "text/x-python",
   "name": "python",
   "nbconvert_exporter": "python",
   "pygments_lexer": "ipython3",
   "version": "3.6.0"
  }
 },
 "nbformat": 4,
 "nbformat_minor": 2
}
